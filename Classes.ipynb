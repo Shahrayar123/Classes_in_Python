{
 "cells": [
  {
   "cell_type": "markdown",
   "metadata": {},
   "source": [
    "# Class\n",
    "---"
   ]
  },
  {
   "cell_type": "markdown",
   "metadata": {},
   "source": [
    "### Create a class of person"
   ]
  },
  {
   "cell_type": "code",
   "execution_count": 10,
   "metadata": {},
   "outputs": [
    {
     "name": "stdout",
     "output_type": "stream",
     "text": [
      "Enter your first name: Muhammad\n",
      "Enter your middle name: Shahrayar\n",
      "Enter your last nameMalik\n",
      "Do you want to display your full name (y/n):Y\n",
      "Muhammad Shahrayar Malik\n"
     ]
    }
   ],
   "source": [
    "class Person:\n",
    "    def __init__(self,fn,mn,ln):\n",
    "        self.first_Name=fn\n",
    "        self.middle_Name=mn\n",
    "        self.last_Name=ln\n",
    "\n",
    "fn=input(\"Enter your first name: \")\n",
    "mn=input(\"Enter your middle name: \")\n",
    "ln=input(\"Enter your last name\")\n",
    "        \n",
    "p1=Person(fn,mn,ln)\n",
    "\n",
    "choice=input(\"Do you want to display your full name (y/n):\")\n",
    "\n",
    "if choice.lower()=='y':\n",
    "    print(f\"{p1.first_Name} {p1.middle_Name} {p1.last_Name}\")\n",
    "else:\n",
    "    pass\n"
   ]
  },
  {
   "cell_type": "code",
   "execution_count": 14,
   "metadata": {},
   "outputs": [
    {
     "name": "stdout",
     "output_type": "stream",
     "text": [
      "Enter your first name: Muhammad\n",
      "Enter your middle name: Shahrayar\n",
      "Enter your last nameMalik\n",
      "Do you want to display your full name (y/n):y\n",
      "Muhammad Shahrayar Malik\n"
     ]
    }
   ],
   "source": [
    "class Person:\n",
    "    def __init__(self,fn,mn,ln):\n",
    "        self.first_Name=fn\n",
    "        self.middle_Name=mn\n",
    "        self.last_Name=ln\n",
    "    \n",
    "    def show_Name(self):                   # class member function\n",
    "        print(f\"{self.first_Name} {self.middle_Name} {self.last_Name}\")\n",
    "\n",
    "fn=input(\"Enter your first name: \")\n",
    "mn=input(\"Enter your middle name: \")\n",
    "ln=input(\"Enter your last name\")\n",
    " \n",
    "p1=Person(fn,mn,ln)\n",
    "\n",
    "choice=input(\"Do you want to display your full name (y/n):\")\n",
    "\n",
    "if choice.lower()=='y':\n",
    "    p1.show_Name()\n",
    "else:\n",
    "    pass"
   ]
  },
  {
   "cell_type": "markdown",
   "metadata": {},
   "source": [
    "### Create a Cricle class and intialize it with radius. Make two methods getArea and getCircumference inside this class."
   ]
  },
  {
   "cell_type": "code",
   "execution_count": 23,
   "metadata": {},
   "outputs": [
    {
     "name": "stdout",
     "output_type": "stream",
     "text": [
      "Enter radius of a circle: 5\n",
      "Area of circle with radius 5 is: 78.53981633974483\n",
      "Circumference of circle with radius 5 is: 31.41592653589793\n"
     ]
    }
   ],
   "source": [
    "import math\n",
    "pi=math.pi\n",
    "\n",
    "class Circle():\n",
    "    def __init__(self,radius):\n",
    "        self.radius=radius\n",
    "        \n",
    "    def getArea(self):\n",
    "        A=pi*self.radius*self.radius\n",
    "        return A\n",
    "    \n",
    "    def getCircumference(self):\n",
    "        C=2*pi*self.radius\n",
    "        return C\n",
    "\n",
    "r=int(input(\"Enter radius of a circle: \"))\n",
    "\n",
    "c1=Circle(r)\n",
    "\n",
    "area=c1.getArea()\n",
    "circum=c1.getCircumference()\n",
    "\n",
    "print(f\"Area of circle with radius {r} is: {area}\")\n",
    "print(f\"Circumference of circle with radius {r} is: {circum}\")"
   ]
  },
  {
   "cell_type": "markdown",
   "metadata": {},
   "source": [
    "Create a Temprature class. Make two methods :\n",
    "1. convertFahrenheit - It will take celsius and will print it into Fahrenheit.\n",
    "2. convertCelsius - It will take Fahrenheit and will convert it into Celsius."
   ]
  },
  {
   "cell_type": "code",
   "execution_count": 29,
   "metadata": {},
   "outputs": [
    {
     "name": "stdout",
     "output_type": "stream",
     "text": [
      "Enter temperature in celsius: 12\n",
      "Enter temperature in fahrenheit: 11\n",
      "\n",
      "11.0 fahrenheit in celsius is: -11.666666666666668\n",
      "12.0  celsius in fahrenheit is: 53.6\n"
     ]
    }
   ],
   "source": [
    "class Temprature():\n",
    "    def __init__(self,celsius,fahrenheit):\n",
    "        self.celsius=celsius\n",
    "        self.fahrenheit=fahrenheit\n",
    "    \n",
    "    def convertFahrenheit(self):\n",
    "        return (self.celsius*(9/5))+32\n",
    "    \n",
    "    def convertCelsius(self):\n",
    "        return (self.fahrenheit-32)*(5/9)\n",
    "    \n",
    "cel=float(input(\"Enter temperature in celsius: \"))\n",
    "fahr=float(input(\"Enter temperature in fahrenheit: \"))\n",
    "\n",
    "temp=Temprature(cel,fahr)\n",
    "\n",
    "f=temp.convertFahrenheit()\n",
    "c=temp.convertCelsius()\n",
    "\n",
    "print(f\"\\n{fahr} fahrenheit in celsius is: {c}\")\n",
    "print(f\"{cel}  celsius in fahrenheit is: {f}\")\n",
    "    "
   ]
  },
  {
   "cell_type": "markdown",
   "metadata": {},
   "source": [
    "Create a Student class and initialize it with name and roll number. Make methods to :\n",
    "1. Display - It should display all informations of the student.\n",
    "2. setAge - It should assign age to student\n",
    "3. setMarks - It should assign marks to the student."
   ]
  },
  {
   "cell_type": "code",
   "execution_count": 44,
   "metadata": {},
   "outputs": [
    {
     "name": "stdout",
     "output_type": "stream",
     "text": [
      "Enter name of student: Muhammad Shahrayar\n",
      "Enter roll number of student: 1234\n",
      "Enter age of student: 20\n",
      "Enter grade of student: A\n",
      "\n",
      "Name of student is: Muhammad Shahrayar\n",
      "Roll No. of student is: 1234\n",
      "Age of student is: 20\n",
      "Grade of student is: A\n"
     ]
    }
   ],
   "source": [
    "class Student:\n",
    "    def __init__(self,name,rollNo):\n",
    "        self.name=name\n",
    "        self.rollNo=rollNo\n",
    "    \n",
    "    def display(self):\n",
    "        print(f\"Name of student is: {self.name}\")\n",
    "        print(f\"Roll No. of student is: {self.rollNo}\")\n",
    "        print(f\"Age of student is: {self.age}\")\n",
    "        print(f\"Grade of student is: {self.grade}\")\n",
    "    \n",
    "    def setAge(self,age):\n",
    "        self.age=age\n",
    "        \n",
    "    def setGrade(self,grade):\n",
    "        self.grade=grade\n",
    "        \n",
    "name=input(\"Enter name of student: \")\n",
    "rollNo=input(\"Enter roll number of student: \")\n",
    "age=int(input(\"Enter age of student: \"))\n",
    "grade=input(\"Enter grade of student: \")\n",
    "\n",
    "s1=Student(name,rollNo)\n",
    "\n",
    "s1.setAge(age)\n",
    "s1.setGrade(grade)\n",
    "\n",
    "print()\n",
    "\n",
    "s1.display()\n",
    "\n",
    "\n"
   ]
  },
  {
   "cell_type": "code",
   "execution_count": null,
   "metadata": {},
   "outputs": [],
   "source": []
  }
 ],
 "metadata": {
  "kernelspec": {
   "display_name": "Python 3",
   "language": "python",
   "name": "python3"
  },
  "language_info": {
   "codemirror_mode": {
    "name": "ipython",
    "version": 3
   },
   "file_extension": ".py",
   "mimetype": "text/x-python",
   "name": "python",
   "nbconvert_exporter": "python",
   "pygments_lexer": "ipython3",
   "version": "3.7.3"
  }
 },
 "nbformat": 4,
 "nbformat_minor": 2
}
