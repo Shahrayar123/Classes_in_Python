{
 "cells": [
  {
   "cell_type": "markdown",
   "metadata": {},
   "source": [
    "# Class\n",
    "---"
   ]
  },
  {
   "cell_type": "markdown",
   "metadata": {},
   "source": [
    "### Create a class of person"
   ]
  },
  {
   "cell_type": "code",
   "execution_count": 10,
   "metadata": {},
   "outputs": [
    {
     "name": "stdout",
     "output_type": "stream",
     "text": [
      "Enter your first name: Muhammad\n",
      "Enter your middle name: Shahrayar\n",
      "Enter your last nameMalik\n",
      "Do you want to display your full name (y/n):Y\n",
      "Muhammad Shahrayar Malik\n"
     ]
    }
   ],
   "source": [
    "class Person:\n",
    "    def __init__(self,fn,mn,ln):\n",
    "        self.first_Name=fn\n",
    "        self.middle_Name=mn\n",
    "        self.last_Name=ln\n",
    "\n",
    "fn=input(\"Enter your first name: \")\n",
    "mn=input(\"Enter your middle name: \")\n",
    "ln=input(\"Enter your last name\")\n",
    "        \n",
    "p1=Person(fn,mn,ln)\n",
    "\n",
    "choice=input(\"Do you want to display your full name (y/n):\")\n",
    "\n",
    "if choice.lower()=='y':\n",
    "    print(f\"{p1.first_Name} {p1.middle_Name} {p1.last_Name}\")\n",
    "else:\n",
    "    pass\n"
   ]
  },
  {
   "cell_type": "code",
   "execution_count": 14,
   "metadata": {},
   "outputs": [
    {
     "name": "stdout",
     "output_type": "stream",
     "text": [
      "Enter your first name: Muhammad\n",
      "Enter your middle name: Shahrayar\n",
      "Enter your last nameMalik\n",
      "Do you want to display your full name (y/n):y\n",
      "Muhammad Shahrayar Malik\n"
     ]
    }
   ],
   "source": [
    "class Person:\n",
    "    def __init__(self,fn,mn,ln):\n",
    "        self.first_Name=fn\n",
    "        self.middle_Name=mn\n",
    "        self.last_Name=ln\n",
    "    \n",
    "    def show_Name(self):                   # class member function\n",
    "        print(f\"{self.first_Name} {self.middle_Name} {self.last_Name}\")\n",
    "\n",
    "fn=input(\"Enter your first name: \")\n",
    "mn=input(\"Enter your middle name: \")\n",
    "ln=input(\"Enter your last name\")\n",
    " \n",
    "p1=Person(fn,mn,ln)\n",
    "\n",
    "choice=input(\"Do you want to display your full name (y/n):\")\n",
    "\n",
    "if choice.lower()=='y':\n",
    "    p1.show_Name()\n",
    "else:\n",
    "    pass"
   ]
  },
  {
   "cell_type": "markdown",
   "metadata": {},
   "source": [
    "### Create a Cricle class and intialize it with radius. Make two methods getArea and getCircumference inside this class."
   ]
  },
  {
   "cell_type": "code",
   "execution_count": 23,
   "metadata": {},
   "outputs": [
    {
     "name": "stdout",
     "output_type": "stream",
     "text": [
      "Enter radius of a circle: 5\n",
      "Area of circle with radius 5 is: 78.53981633974483\n",
      "Circumference of circle with radius 5 is: 31.41592653589793\n"
     ]
    }
   ],
   "source": [
    "import math\n",
    "pi=math.pi\n",
    "\n",
    "class Circle():\n",
    "    def __init__(self,radius):\n",
    "        self.radius=radius\n",
    "        \n",
    "    def getArea(self):\n",
    "        A=pi*self.radius*self.radius\n",
    "        return A\n",
    "    \n",
    "    def getCircumference(self):\n",
    "        C=2*pi*self.radius\n",
    "        return C\n",
    "\n",
    "r=int(input(\"Enter radius of a circle: \"))\n",
    "\n",
    "c1=Circle(r)\n",
    "\n",
    "area=c1.getArea()\n",
    "circum=c1.getCircumference()\n",
    "\n",
    "print(f\"Area of circle with radius {r} is: {area}\")\n",
    "print(f\"Circumference of circle with radius {r} is: {circum}\")"
   ]
  },
  {
   "cell_type": "markdown",
   "metadata": {},
   "source": [
    "Create a Temprature class. Make two methods :\n",
    "1. convertFahrenheit - It will take celsius and will print it into Fahrenheit.\n",
    "2. convertCelsius - It will take Fahrenheit and will convert it into Celsius."
   ]
  },
  {
   "cell_type": "code",
   "execution_count": 29,
   "metadata": {},
   "outputs": [
    {
     "name": "stdout",
     "output_type": "stream",
     "text": [
      "Enter temperature in celsius: 12\n",
      "Enter temperature in fahrenheit: 11\n",
      "\n",
      "11.0 fahrenheit in celsius is: -11.666666666666668\n",
      "12.0  celsius in fahrenheit is: 53.6\n"
     ]
    }
   ],
   "source": [
    "class Temprature():\n",
    "    def __init__(self,celsius,fahrenheit):\n",
    "        self.celsius=celsius\n",
    "        self.fahrenheit=fahrenheit\n",
    "    \n",
    "    def convertFahrenheit(self):\n",
    "        return (self.celsius*(9/5))+32\n",
    "    \n",
    "    def convertCelsius(self):\n",
    "        return (self.fahrenheit-32)*(5/9)\n",
    "    \n",
    "cel=float(input(\"Enter temperature in celsius: \"))\n",
    "fahr=float(input(\"Enter temperature in fahrenheit: \"))\n",
    "\n",
    "temp=Temprature(cel,fahr)\n",
    "\n",
    "f=temp.convertFahrenheit()\n",
    "c=temp.convertCelsius()\n",
    "\n",
    "print(f\"\\n{fahr} fahrenheit in celsius is: {c}\")\n",
    "print(f\"{cel}  celsius in fahrenheit is: {f}\")\n",
    "    "
   ]
  },
  {
   "cell_type": "markdown",
   "metadata": {},
   "source": [
    "Create a Student class and initialize it with name and roll number. Make methods to :\n",
    "1. Display - It should display all informations of the student.\n",
    "2. setAge - It should assign age to student\n",
    "3. setMarks - It should assign marks to the student."
   ]
  },
  {
   "cell_type": "code",
   "execution_count": 44,
   "metadata": {},
   "outputs": [
    {
     "name": "stdout",
     "output_type": "stream",
     "text": [
      "Enter name of student: Muhammad Shahrayar\n",
      "Enter roll number of student: 1234\n",
      "Enter age of student: 20\n",
      "Enter grade of student: A\n",
      "\n",
      "Name of student is: Muhammad Shahrayar\n",
      "Roll No. of student is: 1234\n",
      "Age of student is: 20\n",
      "Grade of student is: A\n"
     ]
    }
   ],
   "source": [
    "class Student:\n",
    "    def __init__(self,name,rollNo):\n",
    "        self.name=name\n",
    "        self.rollNo=rollNo\n",
    "    \n",
    "    def display(self):\n",
    "        print(f\"Name of student is: {self.name}\")\n",
    "        print(f\"Roll No. of student is: {self.rollNo}\")\n",
    "        print(f\"Age of student is: {self.age}\")\n",
    "        print(f\"Grade of student is: {self.grade}\")\n",
    "    \n",
    "    def setAge(self,age):\n",
    "        self.age=age\n",
    "        \n",
    "    def setGrade(self,grade):\n",
    "        self.grade=grade\n",
    "        \n",
    "name=input(\"Enter name of student: \")\n",
    "rollNo=input(\"Enter roll number of student: \")\n",
    "age=int(input(\"Enter age of student: \"))\n",
    "grade=input(\"Enter grade of student: \")\n",
    "\n",
    "s1=Student(name,rollNo)\n",
    "\n",
    "s1.setAge(age)\n",
    "s1.setGrade(grade)\n",
    "\n",
    "print()\n",
    "\n",
    "s1.display()\n",
    "\n",
    "\n"
   ]
  },
  {
   "cell_type": "markdown",
   "metadata": {},
   "source": [
    "## Employee Class"
   ]
  },
  {
   "cell_type": "code",
   "execution_count": 9,
   "metadata": {},
   "outputs": [
    {
     "name": "stdout",
     "output_type": "stream",
     "text": [
      "Enter name of employee: Shahrayar\n",
      "Enter age of employee: 20\n",
      "Enter designartion of employee: Architect\n",
      "Ennter salary of employee: 7878989\n",
      "\n",
      "Enter 'n' for update name \n",
      "Enter 'a' for update age \n",
      "Enter 'd' for update designation \n",
      "Enter 's' for update salary \n",
      "Enter 'all' for update all \n",
      "Enter 'q' for quit: \n",
      "\n",
      "\n",
      "---------->>> Enter your choice: ALL\n",
      "Enter name of employee: Muhammad Shahrayar\n",
      "Enter age of employee: 21\n",
      "Enter designation of employee: Software Engineer\n",
      "Enter salary of employee: 9088009.75\n",
      "\n",
      "Do you want to display all details(y/n) :\n",
      "Y\n",
      "Name of employee is: Muhammad Shahrayar\n",
      "Age of employee is: 21\n",
      "Designation of employee is: Software Engineer\n",
      "Salary of employee is: 9088009.75\n"
     ]
    }
   ],
   "source": [
    "class Employee:\n",
    "    def __init__(self,name,age,designation,salary):   # Constructor\n",
    "        self.name=name\n",
    "        self.age=age\n",
    "        self.designation=designation\n",
    "        self.salary=salary\n",
    "    \n",
    "    def setName(self,name):\n",
    "        self.name=name\n",
    "    \n",
    "    def setAge(self,age):\n",
    "        self.age=age\n",
    "    \n",
    "    def showDetails(self):\n",
    "        print(f\"Name of employee is: {self.name}\")\n",
    "        print(f\"Age of employee is: {self.age}\")\n",
    "        print(f\"Designation of employee is: {self.designation}\")\n",
    "        print(f\"Salary of employee is: {self.salary}\")\n",
    "        \n",
    "#       print(f\"{self.name}\\n,{self.age}\\n,{self.salary}\\n,{self.designation}\\n\")\n",
    "\n",
    "        \n",
    "        \n",
    "n=input(\"Enter name of employee: \")\n",
    "a=int(input(\"Enter age of employee: \"))\n",
    "des=input(\"Enter designartion of employee: \")\n",
    "sal=float(input(\"Ennter salary of employee: \"))\n",
    "\n",
    "e1=Employee(n,a,des,sal)\n",
    "\n",
    "# print(e1.name,end=\" \")\n",
    "# print(e1.age,end=\" \")\n",
    "# print(e1.salary)\n",
    "\n",
    "# e1.setName(\"Muhammad Shahrayar Malik\")\n",
    "# e1.setAge(21)\n",
    "\n",
    "# e1.name=\"Muhammad Shahrayar\"\n",
    "# e1.age=21\n",
    "\n",
    "# print(e1.name,end=\" \")\n",
    "# print(e1.age,end=\" \")\n",
    "# print(e1.salary)\n",
    "\n",
    "# print(e1.showDetails())\n",
    "\n",
    "print(\"\\nEnter 'n' for update name \")\n",
    "print(\"Enter 'a' for update age \")\n",
    "print(\"Enter 'd' for update designation \")\n",
    "print(\"Enter 's' for update salary \")\n",
    "print(\"Enter 'all' for update all \")\n",
    "print(\"Enter 'q' for quit: \\n\\n\")\n",
    "\n",
    "ch=input(\"---------->>> Enter your choice: \")\n",
    "\n",
    "if(ch.lower()=='q'):  \n",
    "    pass\n",
    "\n",
    "elif(ch.lower()=='n'):\n",
    "    name=input(\"Enter name of employee: \")\n",
    "    e1.name=name\n",
    "\n",
    "elif(ch.lower()=='a'):\n",
    "    age=int(input(\"Enter age of employee: \"))\n",
    "    e1.age=age\n",
    "\n",
    "elif(ch.lower()=='d'):\n",
    "    des=input(\"Enter designation of employee: \")\n",
    "    e1.designation=des\n",
    "    \n",
    "elif(ch.lower()=='s'):\n",
    "    sal=float(\"Enter salary of employee: \")\n",
    "    e1.salary=sal\n",
    "\n",
    "elif(ch.lower()=='all'):\n",
    "    name=input(\"Enter name of employee: \")\n",
    "    e1.name=name\n",
    "    \n",
    "    age=int(input(\"Enter age of employee: \"))\n",
    "    e1.age=age\n",
    "    \n",
    "    des=input(\"Enter designation of employee: \")\n",
    "    e1.designation=des\n",
    "    \n",
    "    sal=float(input(\"Enter salary of employee: \"))\n",
    "    e1.salary=sal\n",
    "\n",
    "c=input(\"\\nDo you want to display all details(y/n) :\\n\")\n",
    "\n",
    "if(c.lower()=='n'):\n",
    "    print(\"Thank you for saving record\")\n",
    "#     pass\n",
    "\n",
    "elif(c.lower()=='y'):\n",
    "    e1.showDetails()\n",
    "    \n",
    "\n",
    "\n",
    "    \n",
    "\n",
    "\n"
   ]
  },
  {
   "cell_type": "markdown",
   "metadata": {},
   "source": [
    "### Print the average of three numbers entered by user by creating a class named 'Average' having a method to calculate and print the average."
   ]
  },
  {
   "cell_type": "code",
   "execution_count": 3,
   "metadata": {},
   "outputs": [
    {
     "name": "stdout",
     "output_type": "stream",
     "text": [
      "Enter first number: 12\n",
      "Enter second number: 13\n",
      "Enter third number: 14\n",
      "\n",
      "Average of 12,13,14 is: 13.0\n"
     ]
    }
   ],
   "source": [
    "class calcAverage():\n",
    "    def __init__(self,firstNumber,secondNumber,thirdNumber):\n",
    "        self.firstNumber=firstNumber\n",
    "        self.secondNumber=secondNumber\n",
    "        self.thirdNumber=thirdNumber\n",
    "    \n",
    "    def Average(self):\n",
    "        sum=self.firstNumber+self.secondNumber+self.thirdNumber\n",
    "        return(sum/3)\n",
    "\n",
    "\n",
    "fn=int(input(\"Enter first number: \"))\n",
    "sn=int(input(\"Enter second number: \"))\n",
    "tn=int(input(\"Enter third number: \"))\n",
    "       \n",
    "avg1=calcAverage(fn,sn,tn)\n",
    "       \n",
    "print()\n",
    "print(f\"Average of {fn},{sn},{tn} is: {avg1.Average()}\")\n",
    "        "
   ]
  },
  {
   "cell_type": "markdown",
   "metadata": {},
   "source": [
    "### Print the sum, difference and product of two complex numbers by creating a class named 'Complex' with separate methods for each operation whose real and imaginary parts are entered by user."
   ]
  },
  {
   "cell_type": "code",
   "execution_count": 15,
   "metadata": {},
   "outputs": [
    {
     "name": "stdout",
     "output_type": "stream",
     "text": [
      "Enter first Complex number: 1+2j\n",
      "Enter second Complex number: 3+4j\n",
      "\n",
      "Sum of complex numbers (1+2j) and (3+4j) is: (4+6j)\n",
      "Difference of complex (1+2j) and(3+4j) is: (-2-2j) \n",
      "Product of complex number (1+2j) and (3+4j) is: (-5+10j)\n"
     ]
    }
   ],
   "source": [
    "# a=complex(1,2)\n",
    "# b=complex(2,4)\n",
    "\n",
    "# print(a+b)\n",
    "\n",
    "class Complex:\n",
    "    def __init__(self,firstNumber,secondNumber):\n",
    "        self.firstNumber=firstNumber\n",
    "        self.secondNumber=secondNumber\n",
    "        \n",
    "    def add(self):\n",
    "        return(self.firstNumber+self.secondNumber)\n",
    "    \n",
    "    def sub(self):\n",
    "        return(self.firstNumber-self.secondNumber)\n",
    "    \n",
    "    def pro(self):\n",
    "        return(self.firstNumber*self.secondNumber)\n",
    "        \n",
    "    \n",
    "        \n",
    "# fn=complex(input(\"Enter first Complex number: \"))\n",
    "\n",
    "# print(fn)\n",
    "# print(type(fn))\n",
    "        \n",
    "\n",
    "# print(complex(1,2))        \n",
    "\n",
    "try:\n",
    "    fn=complex(input(\"Enter first Complex number: \"))\n",
    "    sn=complex(input(\"Enter second Complex number: \"))\n",
    "\n",
    "except Exception as e:\n",
    "    print(e)\n",
    "else:\n",
    "    comp1=Complex(fn,sn)\n",
    "    Sum=comp1.add()\n",
    "    diff=comp1.sub()\n",
    "    mul=comp1.pro()\n",
    "    \n",
    "    print(f\"\\nSum of complex numbers {fn} and {sn} is: {Sum}\")\n",
    "    print(f\"Difference of complex {fn} and{sn} is: {diff} \")\n",
    "    print(f\"Product of complex number {fn} and {sn} is: {mul}\")\n",
    "\n",
    "# print(Sum,diff,mul)\n"
   ]
  },
  {
   "cell_type": "code",
   "execution_count": null,
   "metadata": {},
   "outputs": [],
   "source": []
  }
 ],
 "metadata": {
  "kernelspec": {
   "display_name": "Python 3",
   "language": "python",
   "name": "python3"
  },
  "language_info": {
   "codemirror_mode": {
    "name": "ipython",
    "version": 3
   },
   "file_extension": ".py",
   "mimetype": "text/x-python",
   "name": "python",
   "nbconvert_exporter": "python",
   "pygments_lexer": "ipython3",
   "version": "3.7.3"
  }
 },
 "nbformat": 4,
 "nbformat_minor": 2
}
